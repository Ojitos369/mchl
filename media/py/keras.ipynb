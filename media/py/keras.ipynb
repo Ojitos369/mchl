{
 "cells": [
  {
   "cell_type": "code",
   "execution_count": null,
   "id": "aca559fe",
   "metadata": {
    "vscode": {
     "languageId": "plaintext"
    }
   },
   "outputs": [],
   "source": [
    "import tensorflow as tf\n",
    "import numpy as np\n",
    "\n",
    "# Datos de ejemplo (problema XOR)\n",
    "# Usaremos DTYPE de nuestro código anterior solo por consistencia, pero TF maneja sus tipos.\n",
    "DTYPE = np.float32\n",
    "X_xor = np.array([[0, 0], [0, 1], [1, 0], [1, 1]], dtype=DTYPE).T # (2, 4)\n",
    "Y_xor = np.array([[0], [1], [1], [0]], dtype=DTYPE).T             # (1, 4)\n",
    "\n",
    "# En Keras, los datos suelen estar como (n_muestras, n_características)\n",
    "# y las etiquetas (n_muestras, n_salidas)\n",
    "X_xor_keras = X_xor.T # (4, 2)\n",
    "Y_xor_keras = Y_xor.T # (4, 1)\n",
    "\n",
    "# Definición del modelo secuencial en Keras\n",
    "model = tf.keras.Sequential([\n",
    "    tf.keras.layers.InputLayer(input_shape=(2,)), # Capa de entrada explícita\n",
    "    tf.keras.layers.Dense(units=5, activation='relu', name='capa_oculta_1'),\n",
    "    tf.keras.layers.Dense(units=1, activation='sigmoid', name='capa_salida')\n",
    "])\n",
    "\n",
    "# Alternativamente, puedes añadir capas una por una:\n",
    "# model = tf.keras.Sequential(name=\"MiRedXOR\")\n",
    "# model.add(tf.keras.layers.InputLayer(input_shape=(2,)))\n",
    "# model.add(tf.keras.layers.Dense(5, activation='relu'))\n",
    "# model.add(tf.keras.layers.Dense(1, activation='sigmoid'))\n",
    "\n",
    "# Compilar el modelo: especificas el optimizador, la función de pérdida y métricas\n",
    "model.compile(optimizer=tf.keras.optimizers.Adam(learning_rate=0.1),\n",
    "              loss=tf.keras.losses.MeanSquaredError(), # o BinaryCrossentropy para clasificación binaria\n",
    "              metrics=['accuracy']) # Métricas para monitorear\n",
    "\n",
    "# Resumen del modelo\n",
    "model.summary()\n",
    "\n",
    "# Entrenar el modelo (¡el equivalente a nuestro método .fit()!)\n",
    "print(\"\\nEntrenando con Keras...\")\n",
    "history = model.fit(X_xor_keras, Y_xor_keras, epochs=200, batch_size=1, verbose=0) # verbose=0 para no imprimir mucho\n",
    "\n",
    "print(f\"Pérdida final: {history.history['loss'][-1]:.4f}\")\n",
    "print(f\"Accuracy final: {history.history['accuracy'][-1]:.4f}\")\n",
    "\n",
    "# Hacer predicciones (¡el equivalente a nuestro .predict()!)\n",
    "predictions_keras = model.predict(X_xor_keras)\n",
    "\n",
    "print(\"\\nPredicciones con Keras (XOR):\")\n",
    "for i in range(X_xor_keras.shape[0]):\n",
    "    print(f\"Entrada: {X_xor_keras[i]}, Salida Real: {Y_xor_keras[i].item():.0f}, Predicción: {predictions_keras[i].item():.4f} (Clase: {predictions_keras[i].item() > 0.5})\")\n",
    "\n",
    "# Puedes guardar y cargar el modelo fácilmente\n",
    "# model.save(\"mi_modelo_keras.h5\")\n",
    "# loaded_model = tf.keras.models.load_model(\"mi_modelo_keras.h5\")"
   ]
  }
 ],
 "metadata": {
  "language_info": {
   "name": "python"
  }
 },
 "nbformat": 4,
 "nbformat_minor": 5
}
